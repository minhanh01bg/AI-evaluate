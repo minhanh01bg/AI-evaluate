{
 "cells": [
  {
   "cell_type": "code",
   "execution_count": 9,
   "metadata": {},
   "outputs": [],
   "source": [
    "import random\n",
    "import numpy as np\n",
    "import pandas as pd\n",
    "import csv\n",
    "import string\n",
    "import rstr\n",
    "with open('./predict.csv','w') as f:\n",
    "    csvFile = csv.writer(f)\n",
    "    csvFile.writerow(['frame_x','predict'])\n",
    "    n_frame = 20\n",
    "    for i in range(n_frame+1):\n",
    "        # ran = ''.join(random.choices(string.ascii_uppercase + string.digits, k=9))\n",
    "        ran = rstr.xeger(r'\\d{2}[A-Z]\\d{6}')\n",
    "        csvFile.writerow([i,ran])\n",
    "    \n",
    "# test = rstr.xeger(r'\\d{2}[A-Z]\\d{6}')\n",
    "# print(test)"
   ]
  }
 ],
 "metadata": {
  "kernelspec": {
   "display_name": "Python 3",
   "language": "python",
   "name": "python3"
  },
  "language_info": {
   "codemirror_mode": {
    "name": "ipython",
    "version": 3
   },
   "file_extension": ".py",
   "mimetype": "text/x-python",
   "name": "python",
   "nbconvert_exporter": "python",
   "pygments_lexer": "ipython3",
   "version": "3.10.6 (tags/v3.10.6:9c7b4bd, Aug  1 2022, 21:53:49) [MSC v.1932 64 bit (AMD64)]"
  },
  "orig_nbformat": 4,
  "vscode": {
   "interpreter": {
    "hash": "6a3ffae8020a817511732d4d0fe02060948831585d778b076daf6741c73f247a"
   }
  }
 },
 "nbformat": 4,
 "nbformat_minor": 2
}
