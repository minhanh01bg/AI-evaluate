{
 "cells": [
  {
   "cell_type": "code",
   "execution_count": 3,
   "metadata": {},
   "outputs": [],
   "source": [
    "import random\n",
    "import numpy as np\n",
    "import pandas as pd\n",
    "import csv\n",
    "import string\n",
    "import rstr\n",
    "for i in range(1,13):\n",
    "    with open('./license_plate/'+str(i)+'.csv','w') as f:\n",
    "        csvFile = csv.writer(f)\n",
    "        csvFile.writerow(['frame_x','predict'])\n",
    "        n_frame = 100\n",
    "        for i in range(n_frame+1):\n",
    "            # ran = ''.join(random.choices(string.ascii_uppercase + string.digits, k=9))\n",
    "            ran = rstr.xeger(r'\\d{2}[A-DF-Z]\\d{5}')\n",
    "            csvFile.writerow([i,ran])\n",
    "    \n",
    "# test = rstr.xeger(r'\\d{2}[A-Z]\\d{6}')\n",
    "# print(test)"
   ]
  },
  {
   "cell_type": "code",
   "execution_count": 17,
   "metadata": {},
   "outputs": [
    {
     "name": "stderr",
     "output_type": "stream",
     "text": [
      "C:\\Users\\fancyma\\AppData\\Local\\Temp\\ipykernel_21560\\3305908645.py:14: SettingWithCopyWarning: \n",
      "A value is trying to be set on a copy of a slice from a DataFrame\n",
      "\n",
      "See the caveats in the documentation: https://pandas.pydata.org/pandas-docs/stable/user_guide/indexing.html#returning-a-view-versus-a-copy\n",
      "  df['predict'][j] = replace_str(df['predict'][j])\n",
      "C:\\Users\\fancyma\\AppData\\Local\\Temp\\ipykernel_21560\\3305908645.py:14: SettingWithCopyWarning: \n",
      "A value is trying to be set on a copy of a slice from a DataFrame\n",
      "\n",
      "See the caveats in the documentation: https://pandas.pydata.org/pandas-docs/stable/user_guide/indexing.html#returning-a-view-versus-a-copy\n",
      "  df['predict'][j] = replace_str(df['predict'][j])\n",
      "C:\\Users\\fancyma\\AppData\\Local\\Temp\\ipykernel_21560\\3305908645.py:14: SettingWithCopyWarning: \n",
      "A value is trying to be set on a copy of a slice from a DataFrame\n",
      "\n",
      "See the caveats in the documentation: https://pandas.pydata.org/pandas-docs/stable/user_guide/indexing.html#returning-a-view-versus-a-copy\n",
      "  df['predict'][j] = replace_str(df['predict'][j])\n",
      "C:\\Users\\fancyma\\AppData\\Local\\Temp\\ipykernel_21560\\3305908645.py:14: SettingWithCopyWarning: \n",
      "A value is trying to be set on a copy of a slice from a DataFrame\n",
      "\n",
      "See the caveats in the documentation: https://pandas.pydata.org/pandas-docs/stable/user_guide/indexing.html#returning-a-view-versus-a-copy\n",
      "  df['predict'][j] = replace_str(df['predict'][j])\n",
      "C:\\Users\\fancyma\\AppData\\Local\\Temp\\ipykernel_21560\\3305908645.py:14: SettingWithCopyWarning: \n",
      "A value is trying to be set on a copy of a slice from a DataFrame\n",
      "\n",
      "See the caveats in the documentation: https://pandas.pydata.org/pandas-docs/stable/user_guide/indexing.html#returning-a-view-versus-a-copy\n",
      "  df['predict'][j] = replace_str(df['predict'][j])\n",
      "C:\\Users\\fancyma\\AppData\\Local\\Temp\\ipykernel_21560\\3305908645.py:14: SettingWithCopyWarning: \n",
      "A value is trying to be set on a copy of a slice from a DataFrame\n",
      "\n",
      "See the caveats in the documentation: https://pandas.pydata.org/pandas-docs/stable/user_guide/indexing.html#returning-a-view-versus-a-copy\n",
      "  df['predict'][j] = replace_str(df['predict'][j])\n",
      "C:\\Users\\fancyma\\AppData\\Local\\Temp\\ipykernel_21560\\3305908645.py:14: SettingWithCopyWarning: \n",
      "A value is trying to be set on a copy of a slice from a DataFrame\n",
      "\n",
      "See the caveats in the documentation: https://pandas.pydata.org/pandas-docs/stable/user_guide/indexing.html#returning-a-view-versus-a-copy\n",
      "  df['predict'][j] = replace_str(df['predict'][j])\n",
      "C:\\Users\\fancyma\\AppData\\Local\\Temp\\ipykernel_21560\\3305908645.py:14: SettingWithCopyWarning: \n",
      "A value is trying to be set on a copy of a slice from a DataFrame\n",
      "\n",
      "See the caveats in the documentation: https://pandas.pydata.org/pandas-docs/stable/user_guide/indexing.html#returning-a-view-versus-a-copy\n",
      "  df['predict'][j] = replace_str(df['predict'][j])\n",
      "C:\\Users\\fancyma\\AppData\\Local\\Temp\\ipykernel_21560\\3305908645.py:14: SettingWithCopyWarning: \n",
      "A value is trying to be set on a copy of a slice from a DataFrame\n",
      "\n",
      "See the caveats in the documentation: https://pandas.pydata.org/pandas-docs/stable/user_guide/indexing.html#returning-a-view-versus-a-copy\n",
      "  df['predict'][j] = replace_str(df['predict'][j])\n",
      "C:\\Users\\fancyma\\AppData\\Local\\Temp\\ipykernel_21560\\3305908645.py:14: SettingWithCopyWarning: \n",
      "A value is trying to be set on a copy of a slice from a DataFrame\n",
      "\n",
      "See the caveats in the documentation: https://pandas.pydata.org/pandas-docs/stable/user_guide/indexing.html#returning-a-view-versus-a-copy\n",
      "  df['predict'][j] = replace_str(df['predict'][j])\n",
      "C:\\Users\\fancyma\\AppData\\Local\\Temp\\ipykernel_21560\\3305908645.py:14: SettingWithCopyWarning: \n",
      "A value is trying to be set on a copy of a slice from a DataFrame\n",
      "\n",
      "See the caveats in the documentation: https://pandas.pydata.org/pandas-docs/stable/user_guide/indexing.html#returning-a-view-versus-a-copy\n",
      "  df['predict'][j] = replace_str(df['predict'][j])\n",
      "C:\\Users\\fancyma\\AppData\\Local\\Temp\\ipykernel_21560\\3305908645.py:14: SettingWithCopyWarning: \n",
      "A value is trying to be set on a copy of a slice from a DataFrame\n",
      "\n",
      "See the caveats in the documentation: https://pandas.pydata.org/pandas-docs/stable/user_guide/indexing.html#returning-a-view-versus-a-copy\n",
      "  df['predict'][j] = replace_str(df['predict'][j])\n"
     ]
    }
   ],
   "source": [
    "import random\n",
    "def replace_str(str):\n",
    "    cnt = 0\n",
    "    x = random.randint(1,2)\n",
    "    for i in str:\n",
    "        cnt+=1;\n",
    "        str  = str.replace(i,'a',1)        \n",
    "        if cnt==x:\n",
    "            break\n",
    "    return str\n",
    "for i in range(1,13):\n",
    "    df = pd.read_csv('./license_plate/'+str(i)+'.csv')\n",
    "    for j in range(len(df['predict'])):\n",
    "        df['predict'][j] = replace_str(df['predict'][j])\n",
    "    \n",
    "    df.to_csv('./predict_/'+str(i)+'.csv',index=False)\n"
   ]
  }
 ],
 "metadata": {
  "kernelspec": {
   "display_name": "Python 3",
   "language": "python",
   "name": "python3"
  },
  "language_info": {
   "codemirror_mode": {
    "name": "ipython",
    "version": 3
   },
   "file_extension": ".py",
   "mimetype": "text/x-python",
   "name": "python",
   "nbconvert_exporter": "python",
   "pygments_lexer": "ipython3",
   "version": "3.10.6"
  },
  "orig_nbformat": 4,
  "vscode": {
   "interpreter": {
    "hash": "6a3ffae8020a817511732d4d0fe02060948831585d778b076daf6741c73f247a"
   }
  }
 },
 "nbformat": 4,
 "nbformat_minor": 2
}
