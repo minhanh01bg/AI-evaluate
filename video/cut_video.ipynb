{
 "cells": [
  {
   "cell_type": "code",
   "execution_count": 12,
   "metadata": {},
   "outputs": [],
   "source": [
    "import cv2\n",
    "import matplotlib.pyplot as plt"
   ]
  },
  {
   "cell_type": "code",
   "execution_count": 15,
   "metadata": {},
   "outputs": [],
   "source": [
    "video = cv2.VideoCapture('./1.mp4')\n",
    "cnt = 0\n",
    "while True:\n",
    "    ret,frame = video.read()\n",
    "    if ret:\n",
    "        if cnt % 60 == 0:\n",
    "            cv2.imwrite('./save_1/'+ str(cnt//60) + '.jpg',frame)\n",
    "        cnt += 1\n",
    "    else:\n",
    "        break"
   ]
  }
 ],
 "metadata": {
  "kernelspec": {
   "display_name": "Python 3",
   "language": "python",
   "name": "python3"
  },
  "language_info": {
   "codemirror_mode": {
    "name": "ipython",
    "version": 3
   },
   "file_extension": ".py",
   "mimetype": "text/x-python",
   "name": "python",
   "nbconvert_exporter": "python",
   "pygments_lexer": "ipython3",
   "version": "3.10.6 (tags/v3.10.6:9c7b4bd, Aug  1 2022, 21:53:49) [MSC v.1932 64 bit (AMD64)]"
  },
  "orig_nbformat": 4,
  "vscode": {
   "interpreter": {
    "hash": "6a3ffae8020a817511732d4d0fe02060948831585d778b076daf6741c73f247a"
   }
  }
 },
 "nbformat": 4,
 "nbformat_minor": 2
}
